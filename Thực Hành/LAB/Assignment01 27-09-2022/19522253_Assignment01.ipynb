{
  "nbformat": 4,
  "nbformat_minor": 0,
  "metadata": {
    "colab": {
      "provenance": []
    },
    "kernelspec": {
      "name": "python3",
      "display_name": "Python 3"
    },
    "language_info": {
      "name": "python"
    }
  },
  "cells": [
    {
      "cell_type": "markdown",
      "metadata": {
        "id": "V11tiprMtAWA"
      },
      "source": [
        "Họ và tên: Phạm Đức Thể\n",
        "\n",
        "MSSV: 19522253\n",
        "\n",
        "Lớp: DS104.N11\n",
        "\n",
        "Assignment01 - 27/09/2022\n",
        "\n",
        "[![Open In Colab](https://colab.research.google.com/assets/colab-badge.svg)](https://colab.research.google.com/drive/1JLGSVSfwNJIycXUO_C2tUPi2Or8VVKKP?usp=sharing)"
      ]
    },
    {
      "cell_type": "markdown",
      "source": [
        "# **Assignment 01**"
      ],
      "metadata": {
        "id": "7f2hyc2LsbxA"
      }
    },
    {
      "cell_type": "markdown",
      "metadata": {
        "id": "8PxOfEE9m32e"
      },
      "source": [
        "## Installing GraphFrame & PySpark "
      ]
    },
    {
      "cell_type": "code",
      "execution_count": 1,
      "metadata": {
        "colab": {
          "base_uri": "https://localhost:8080/"
        },
        "id": "zsUBKYTWulX5",
        "outputId": "f5b16da8-aaac-4a73-ce95-6e138377afdb"
      },
      "outputs": [
        {
          "output_type": "stream",
          "name": "stdout",
          "text": [
            "Looking in indexes: https://pypi.org/simple, https://us-python.pkg.dev/colab-wheels/public/simple/\n",
            "Collecting pyspark==3.1.1\n",
            "  Downloading pyspark-3.1.1.tar.gz (212.3 MB)\n",
            "\u001b[K     |████████████████████████████████| 212.3 MB 17 kB/s \n",
            "\u001b[?25hCollecting py4j==0.10.9\n",
            "  Downloading py4j-0.10.9-py2.py3-none-any.whl (198 kB)\n",
            "\u001b[K     |████████████████████████████████| 198 kB 19.3 MB/s \n",
            "\u001b[?25hBuilding wheels for collected packages: pyspark\n",
            "  Building wheel for pyspark (setup.py) ... \u001b[?25l\u001b[?25hdone\n",
            "  Created wheel for pyspark: filename=pyspark-3.1.1-py2.py3-none-any.whl size=212767605 sha256=654cb133c67e2957be23b2590b870d00f9ea219e7c383464263c49bda5eaea7d\n",
            "  Stored in directory: /root/.cache/pip/wheels/43/47/42/bc413c760cf9d3f7b46ab7cd6590e8c47ebfd19a7386cd4a57\n",
            "Successfully built pyspark\n",
            "Installing collected packages: py4j, pyspark\n",
            "Successfully installed py4j-0.10.9 pyspark-3.1.1\n"
          ]
        }
      ],
      "source": [
        "!pip install pyspark==3.1.1"
      ]
    },
    {
      "cell_type": "code",
      "execution_count": 2,
      "metadata": {
        "colab": {
          "base_uri": "https://localhost:8080/"
        },
        "id": "OlRBoThSvkLI",
        "outputId": "f2ad2826-ba54-4fa1-cdef-66afddc2fd75"
      },
      "outputs": [
        {
          "output_type": "stream",
          "name": "stdout",
          "text": [
            "Looking in indexes: https://pypi.org/simple, https://us-python.pkg.dev/colab-wheels/public/simple/\n",
            "Collecting graphframes\n",
            "  Downloading graphframes-0.6-py2.py3-none-any.whl (18 kB)\n",
            "Requirement already satisfied: numpy in /usr/local/lib/python3.7/dist-packages (from graphframes) (1.21.6)\n",
            "Collecting nose\n",
            "  Downloading nose-1.3.7-py3-none-any.whl (154 kB)\n",
            "\u001b[K     |████████████████████████████████| 154 kB 5.0 MB/s \n",
            "\u001b[?25hInstalling collected packages: nose, graphframes\n",
            "Successfully installed graphframes-0.6 nose-1.3.7\n"
          ]
        }
      ],
      "source": [
        "!pip install graphframes"
      ]
    },
    {
      "cell_type": "code",
      "execution_count": 3,
      "metadata": {
        "colab": {
          "base_uri": "https://localhost:8080/"
        },
        "id": "gk57y0chnCtZ",
        "outputId": "7447eaab-7b18-4d5b-fcfa-03815a6abd4c"
      },
      "outputs": [
        {
          "output_type": "stream",
          "name": "stdout",
          "text": [
            "  % Total    % Received % Xferd  Average Speed   Time    Time     Time  Current\n",
            "                                 Dload  Upload   Total   Spent    Left  Speed\n",
            "100  242k  100  242k    0     0  1175k      0 --:--:-- --:--:-- --:--:-- 1169k\n",
            "  % Total    % Received % Xferd  Average Speed   Time    Time     Time  Current\n",
            "                                 Dload  Upload   Total   Spent    Left  Speed\n",
            "100  242k  100  242k    0     0  3064k      0 --:--:-- --:--:-- --:--:-- 3064k\n"
          ]
        }
      ],
      "source": [
        "!curl -L -o \"/usr/local/lib/python3.7/dist-packages/pyspark/jars/graphframes-0.8.2-spark3.1-s_2.12.jar\" https://repos.spark-packages.org/graphframes/graphframes/0.8.2-spark3.1-s_2.12/graphframes-0.8.2-spark3.1-s_2.12.jar\n",
        "!curl -L -o \"/content/graphframes-0.8.2-spark3.1-s_2.12.jar\" https://repos.spark-packages.org/graphframes/graphframes/0.8.2-spark3.1-s_2.12/graphframes-0.8.2-spark3.1-s_2.12.jar"
      ]
    },
    {
      "cell_type": "code",
      "execution_count": 4,
      "metadata": {
        "colab": {
          "base_uri": "https://localhost:8080/"
        },
        "id": "EV6lkVQeqnjG",
        "outputId": "0c4628de-1b96-4c79-979b-b3c0eb5a144e"
      },
      "outputs": [
        {
          "output_type": "stream",
          "name": "stdout",
          "text": [
            "  created: graphframes/\n",
            "  created: graphframes/examples/\n",
            "  created: graphframes/lib/\n",
            " inflated: graphframes/examples/__init__.py\n",
            " inflated: graphframes/tests.py\n",
            " inflated: graphframes/examples/belief_propagation.py\n",
            " inflated: graphframes/graphframe.py\n",
            " inflated: graphframes/examples/graphs.py\n",
            " inflated: graphframes/lib/aggregate_messages.py\n",
            " inflated: graphframes/lib/__init__.py\n",
            " inflated: graphframes/__init__.py\n",
            " inflated: graphframes/lib/pregel.py\n"
          ]
        }
      ],
      "source": [
        "!mkdir -p 'graphframes'\n",
        "!jar -xvf '/content/graphframes-0.8.2-spark3.1-s_2.12.jar' 'graphframes'"
      ]
    },
    {
      "cell_type": "markdown",
      "metadata": {
        "id": "97rIReDWsycS"
      },
      "source": [
        "## Import Libraries"
      ]
    },
    {
      "cell_type": "code",
      "execution_count": 23,
      "metadata": {
        "id": "vEVT71tZvMHj"
      },
      "outputs": [],
      "source": [
        "import pyspark\n",
        "\n",
        "from pyspark.sql import SparkSession, SQLContext\n",
        "from pyspark.sql.functions import col, lit, when\n",
        "from pyspark.sql.types import IntegerType\n",
        "from pyspark.sql import SQLContext\n",
        "from pyspark.sql.functions import sum as sqlsum\n",
        "from pyspark.sql.functions import desc, asc, count, avg, mean\n",
        "from pyspark.sql.types import StructType, StructField, StringType, DoubleType\n",
        "\n",
        "from graphframes.lib import AggregateMessages as AM\n",
        "from graphframes import *\n",
        "\n",
        "from functools import reduce"
      ]
    },
    {
      "cell_type": "code",
      "execution_count": 11,
      "metadata": {
        "colab": {
          "base_uri": "https://localhost:8080/",
          "height": 221
        },
        "id": "gtsGgHCxHBzB",
        "outputId": "c7e9a3c1-64ce-4eb9-9807-69c2ab816dcb"
      },
      "outputs": [
        {
          "output_type": "execute_result",
          "data": {
            "text/plain": [
              "<pyspark.sql.session.SparkSession at 0x7f45ea375110>"
            ],
            "text/html": [
              "\n",
              "            <div>\n",
              "                <p><b>SparkSession - in-memory</b></p>\n",
              "                \n",
              "        <div>\n",
              "            <p><b>SparkContext</b></p>\n",
              "\n",
              "            <p><a href=\"http://3030ba299d38:4040\">Spark UI</a></p>\n",
              "\n",
              "            <dl>\n",
              "              <dt>Version</dt>\n",
              "                <dd><code>v3.1.1</code></dd>\n",
              "              <dt>Master</dt>\n",
              "                <dd><code>local[*]</code></dd>\n",
              "              <dt>AppName</dt>\n",
              "                <dd><code>GraphFrame</code></dd>\n",
              "            </dl>\n",
              "        </div>\n",
              "        \n",
              "            </div>\n",
              "        "
            ]
          },
          "metadata": {},
          "execution_count": 11
        }
      ],
      "source": [
        "spark = SparkSession.builder.appName('Assignment01').getOrCreate()\n",
        "spark"
      ]
    },
    {
      "cell_type": "code",
      "execution_count": 10,
      "metadata": {
        "colab": {
          "base_uri": "https://localhost:8080/"
        },
        "id": "B5osRz-S1TkY",
        "outputId": "abcd060e-b318-4e9d-e831-a0fc81d70845"
      },
      "outputs": [
        {
          "output_type": "execute_result",
          "data": {
            "text/plain": [
              "<pyspark.sql.context.SQLContext at 0x7f45ea3e9950>"
            ]
          },
          "metadata": {},
          "execution_count": 10
        }
      ],
      "source": [
        "sqlContext = SQLContext(spark.sparkContext)\n",
        "sqlContext"
      ]
    },
    {
      "cell_type": "markdown",
      "source": [
        "## Load data"
      ],
      "metadata": {
        "id": "Emr1lbbIs7_H"
      }
    },
    {
      "cell_type": "code",
      "source": [
        "PATH = '/content/drive/MyDrive/TÀI LIỆU HỌC TẬP ĐẠI HỌC 2019-2023/NĂM 4 2022-2023/HỌC KỲ 1 2022 - 2023/DS104.N11 - TÍNH TOÁN SONG SONG & PHÂN TÁN/THỰC HÀNH/LAB/Assignment01 - 27 09 2022/dataset'"
      ],
      "metadata": {
        "id": "sIqrtKmjsil6"
      },
      "execution_count": 6,
      "outputs": []
    },
    {
      "cell_type": "code",
      "source": [
        "schema = StructType([StructField('id', StringType(), True),\n",
        "                     StructField('fldate', StringType(), True),\n",
        "                     StructField('month', IntegerType(), True),\n",
        "                     StructField('dofW', IntegerType(), True),\n",
        "                     StructField('carrier', StringType(), True),\n",
        "                     StructField('src', StringType(), True),\n",
        "                     StructField('dst', StringType(), True),\n",
        "                     StructField('crsdephour', IntegerType(), True),\n",
        "                     StructField('crsdeptime', IntegerType(), True),\n",
        "                     StructField('depdelay', DoubleType(), True),\n",
        "                     StructField('crsarrtime', IntegerType(), True),\n",
        "                     StructField('arrdelay', DoubleType(), True),\n",
        "                     StructField('crselapsedtime', DoubleType(), True),\n",
        "                     StructField('dist', DoubleType(), True),])"
      ],
      "metadata": {
        "id": "v9MKffXrtIFr"
      },
      "execution_count": 12,
      "outputs": []
    },
    {
      "cell_type": "code",
      "source": [
        "flightDF = spark.read.option('inferSchema', 'false').schema(schema).json(PATH+'/flightdata2018.json')\n",
        "flightDF.show(5)\n",
        "flightDF.count()"
      ],
      "metadata": {
        "colab": {
          "base_uri": "https://localhost:8080/"
        },
        "id": "28PHV8F4tIIZ",
        "outputId": "23365da1-33b9-48da-f69b-c64683a96a49"
      },
      "execution_count": 13,
      "outputs": [
        {
          "output_type": "stream",
          "name": "stdout",
          "text": [
            "+--------------------+----------+-----+----+-------+---+---+----------+----------+--------+----------+--------+--------------+-----+\n",
            "|                  id|    fldate|month|dofW|carrier|src|dst|crsdephour|crsdeptime|depdelay|crsarrtime|arrdelay|crselapsedtime| dist|\n",
            "+--------------------+----------+-----+----+-------+---+---+----------+----------+--------+----------+--------+--------------+-----+\n",
            "|ATL_BOS_2018-01-0...|2018-01-01|    1|   1|     DL|ATL|BOS|         9|       850|     0.0|      1116|     0.0|         146.0|946.0|\n",
            "|ATL_BOS_2018-01-0...|2018-01-01|    1|   1|     DL|ATL|BOS|        11|      1122|     8.0|      1349|     0.0|         147.0|946.0|\n",
            "|ATL_BOS_2018-01-0...|2018-01-01|    1|   1|     DL|ATL|BOS|        14|      1356|     9.0|      1623|     0.0|         147.0|946.0|\n",
            "|ATL_BOS_2018-01-0...|2018-01-01|    1|   1|     DL|ATL|BOS|        16|      1620|     0.0|      1851|     3.0|         151.0|946.0|\n",
            "|ATL_BOS_2018-01-0...|2018-01-01|    1|   1|     DL|ATL|BOS|        19|      1940|     6.0|      2210|     0.0|         150.0|946.0|\n",
            "+--------------------+----------+-----+----+-------+---+---+----------+----------+--------+----------+--------+--------------+-----+\n",
            "only showing top 5 rows\n",
            "\n"
          ]
        },
        {
          "output_type": "execute_result",
          "data": {
            "text/plain": [
              "282628"
            ]
          },
          "metadata": {},
          "execution_count": 13
        }
      ]
    },
    {
      "cell_type": "code",
      "source": [
        "airportVertices = spark.read.json(PATH+'/airports.json')\n",
        "airportVertices.show()\n",
        "airportVertices.count()"
      ],
      "metadata": {
        "colab": {
          "base_uri": "https://localhost:8080/"
        },
        "id": "FDg2pGKGtIKs",
        "outputId": "c761e05f-6a2d-4eaf-840d-eb8a03c75d6a"
      },
      "execution_count": 14,
      "outputs": [
        {
          "output_type": "stream",
          "name": "stdout",
          "text": [
            "+-------------+-------+-----+---+\n",
            "|         City|Country|State| id|\n",
            "+-------------+-------+-----+---+\n",
            "|      Chicago|    USA|   IL|ORD|\n",
            "|     New York|    USA|   NY|LGA|\n",
            "|       Boston|    USA|   MA|BOS|\n",
            "|      Houston|    USA|   TX|IAH|\n",
            "|       Newark|    USA|   NJ|EWR|\n",
            "|       Denver|    USA|   CO|DEN|\n",
            "|        Miami|    USA|   FL|MIA|\n",
            "|San Francisco|    USA|   CA|SFO|\n",
            "|      Atlanta|    USA|   GA|ATL|\n",
            "|       Dallas|    USA|   TX|DFW|\n",
            "|    Charlotte|    USA|   NC|CLT|\n",
            "|  Los Angeles|    USA|   CA|LAX|\n",
            "|      Seattle|    USA|   WA|SEA|\n",
            "+-------------+-------+-----+---+\n",
            "\n"
          ]
        },
        {
          "output_type": "execute_result",
          "data": {
            "text/plain": [
              "13"
            ]
          },
          "metadata": {},
          "execution_count": 14
        }
      ]
    },
    {
      "cell_type": "markdown",
      "source": [
        "### Create graphframe"
      ],
      "metadata": {
        "id": "vSM0CYogjuMF"
      }
    },
    {
      "cell_type": "code",
      "execution_count": 15,
      "metadata": {
        "colab": {
          "base_uri": "https://localhost:8080/"
        },
        "id": "OIiZUck5AZU1",
        "outputId": "9d10f7d1-c27b-440f-a752-abacd44a6859"
      },
      "outputs": [
        {
          "output_type": "execute_result",
          "data": {
            "text/plain": [
              "GraphFrame(v:[id: string, City: string ... 2 more fields], e:[src: string, dst: string ... 12 more fields])"
            ]
          },
          "metadata": {},
          "execution_count": 15
        }
      ],
      "source": [
        "flightGraph = GraphFrame(airportVertices, flightDF)\n",
        "flightGraph"
      ]
    },
    {
      "cell_type": "code",
      "source": [
        "# Show vertices and edges\n",
        "flightGraph.vertices.show(5)\n",
        "flightGraph.edges.show(5)"
      ],
      "metadata": {
        "colab": {
          "base_uri": "https://localhost:8080/"
        },
        "id": "qxuuva2mukV8",
        "outputId": "74a93e8c-c9f9-4b27-851c-899341b49190"
      },
      "execution_count": 16,
      "outputs": [
        {
          "output_type": "stream",
          "name": "stdout",
          "text": [
            "+--------+-------+-----+---+\n",
            "|    City|Country|State| id|\n",
            "+--------+-------+-----+---+\n",
            "| Chicago|    USA|   IL|ORD|\n",
            "|New York|    USA|   NY|LGA|\n",
            "|  Boston|    USA|   MA|BOS|\n",
            "| Houston|    USA|   TX|IAH|\n",
            "|  Newark|    USA|   NJ|EWR|\n",
            "+--------+-------+-----+---+\n",
            "only showing top 5 rows\n",
            "\n",
            "+--------------------+----------+-----+----+-------+---+---+----------+----------+--------+----------+--------+--------------+-----+\n",
            "|                  id|    fldate|month|dofW|carrier|src|dst|crsdephour|crsdeptime|depdelay|crsarrtime|arrdelay|crselapsedtime| dist|\n",
            "+--------------------+----------+-----+----+-------+---+---+----------+----------+--------+----------+--------+--------------+-----+\n",
            "|ATL_BOS_2018-01-0...|2018-01-01|    1|   1|     DL|ATL|BOS|         9|       850|     0.0|      1116|     0.0|         146.0|946.0|\n",
            "|ATL_BOS_2018-01-0...|2018-01-01|    1|   1|     DL|ATL|BOS|        11|      1122|     8.0|      1349|     0.0|         147.0|946.0|\n",
            "|ATL_BOS_2018-01-0...|2018-01-01|    1|   1|     DL|ATL|BOS|        14|      1356|     9.0|      1623|     0.0|         147.0|946.0|\n",
            "|ATL_BOS_2018-01-0...|2018-01-01|    1|   1|     DL|ATL|BOS|        16|      1620|     0.0|      1851|     3.0|         151.0|946.0|\n",
            "|ATL_BOS_2018-01-0...|2018-01-01|    1|   1|     DL|ATL|BOS|        19|      1940|     6.0|      2210|     0.0|         150.0|946.0|\n",
            "+--------------------+----------+-----+----+-------+---+---+----------+----------+--------+----------+--------+--------------+-----+\n",
            "only showing top 5 rows\n",
            "\n"
          ]
        }
      ]
    },
    {
      "cell_type": "markdown",
      "source": [
        "## Q1.1: Show the most important airports according to pageRank (resetProbability=0.15, maxIter=10). The result should be displayed in descending order of pagerank."
      ],
      "metadata": {
        "id": "IUCs8WwRtw_j"
      }
    },
    {
      "cell_type": "code",
      "source": [
        "Q1_1 = flightGraph.pageRank(resetProbability=0.15, maxIter=10)\n",
        "Q1_1.vertices.select(\"City\", \"Country\", \"State\", \"id\", \"pagerank\").orderBy(desc('pagerank')).show()"
      ],
      "metadata": {
        "colab": {
          "base_uri": "https://localhost:8080/"
        },
        "id": "j_3DBMfitoaF",
        "outputId": "fd414c19-8759-40f0-96f0-2756a0c8f670"
      },
      "execution_count": 22,
      "outputs": [
        {
          "output_type": "stream",
          "name": "stdout",
          "text": [
            "+-------------+-------+-----+---+------------------+\n",
            "|         City|Country|State| id|          pagerank|\n",
            "+-------------+-------+-----+---+------------------+\n",
            "|      Chicago|    USA|   IL|ORD|1.4211326956260946|\n",
            "|      Atlanta|    USA|   GA|ATL| 1.338997016474749|\n",
            "|  Los Angeles|    USA|   CA|LAX|1.2010647369505538|\n",
            "|       Dallas|    USA|   TX|DFW|1.1270726146979606|\n",
            "|       Denver|    USA|   CO|DEN|1.0590628954667065|\n",
            "|San Francisco|    USA|   CA|SFO| 1.024613545715325|\n",
            "|     New York|    USA|   NY|LGA|0.9449041443648583|\n",
            "|       Boston|    USA|   MA|BOS|0.8774889102399694|\n",
            "|       Newark|    USA|   NJ|EWR|0.8731704325952135|\n",
            "|        Miami|    USA|   FL|MIA|0.8507611366338732|\n",
            "|      Houston|    USA|   TX|IAH|0.8350494969576393|\n",
            "|    Charlotte|    USA|   NC|CLT|0.8049025258214485|\n",
            "|      Seattle|    USA|   WA|SEA|0.6417798484556105|\n",
            "+-------------+-------+-----+---+------------------+\n",
            "\n"
          ]
        }
      ]
    },
    {
      "cell_type": "markdown",
      "source": [
        "## Q1.2: Show the average delay of each Scheduled Depart Hour (crsdephour) from LGA airport. The result should be displayed in descending order of average delay."
      ],
      "metadata": {
        "id": "km-ePyndt7i2"
      }
    },
    {
      "cell_type": "code",
      "source": [
        "Q1_2 = flightGraph.edges.filter(\"src = 'LGA' and depdelay > 1\").groupBy('crsdephour').avg('depdelay').orderBy(desc('avg(depdelay)'))\n",
        "Q1_2.show()"
      ],
      "metadata": {
        "colab": {
          "base_uri": "https://localhost:8080/"
        },
        "id": "Keha5H1Zt_gw",
        "outputId": "b32bc9ec-264c-4544-8ac5-57cd58b32905"
      },
      "execution_count": 35,
      "outputs": [
        {
          "output_type": "stream",
          "name": "stdout",
          "text": [
            "+----------+------------------+\n",
            "|crsdephour|     avg(depdelay)|\n",
            "+----------+------------------+\n",
            "|        21| 58.51034482758621|\n",
            "|        19| 58.48443579766537|\n",
            "|        18| 58.30467289719626|\n",
            "|        15| 56.19718309859155|\n",
            "|        22|52.986666666666665|\n",
            "|        20| 52.81941309255079|\n",
            "|        17| 49.28086419753087|\n",
            "|        16| 43.59234234234234|\n",
            "|        13| 42.80222222222222|\n",
            "|        12| 42.41463414634146|\n",
            "|        14|40.632603406326034|\n",
            "|        11| 38.05428571428571|\n",
            "|         9| 37.07849829351536|\n",
            "|         7| 36.63453815261044|\n",
            "|        10|  34.9458762886598|\n",
            "|         8| 34.69613259668508|\n",
            "|         6| 30.15813953488372|\n",
            "|         5| 27.73170731707317|\n",
            "+----------+------------------+\n",
            "\n"
          ]
        }
      ]
    },
    {
      "cell_type": "markdown",
      "source": [
        "## Q1.3: Find all destinations that does not have direct flight from LGA but can be reached with one transit. The result should be display in the ascending order of the id of destination and transit airport."
      ],
      "metadata": {
        "id": "PqNAG70ouDXT"
      }
    },
    {
      "cell_type": "code",
      "source": [
        "Q1_3 = flightGraph.filter(\"src = 'LGA\")\n",
        "Q1_3.show()"
      ],
      "metadata": {
        "id": "LqciWy4ot_qR"
      },
      "execution_count": null,
      "outputs": []
    },
    {
      "cell_type": "markdown",
      "source": [
        "## Q1.4: Computes shortest paths from each airport to LGA."
      ],
      "metadata": {
        "id": "sNnrdZJVuH9F"
      }
    },
    {
      "cell_type": "code",
      "source": [
        "Q1_4 = flightGraph.shortestPaths(landmarks=[\"LGA\"])\n",
        "Q1_4.select(\"id\", \"distances\").show()"
      ],
      "metadata": {
        "colab": {
          "base_uri": "https://localhost:8080/"
        },
        "id": "6ouGjL5Kt_yy",
        "outputId": "0c791b38-b53f-46d5-ddae-8713ea940cb0"
      },
      "execution_count": 47,
      "outputs": [
        {
          "output_type": "stream",
          "name": "stdout",
          "text": [
            "+---+----------+\n",
            "| id| distances|\n",
            "+---+----------+\n",
            "|IAH|{LGA -> 1}|\n",
            "|CLT|{LGA -> 1}|\n",
            "|LAX|{LGA -> 2}|\n",
            "|DEN|{LGA -> 1}|\n",
            "|DFW|{LGA -> 1}|\n",
            "|SFO|{LGA -> 2}|\n",
            "|LGA|{LGA -> 0}|\n",
            "|ORD|{LGA -> 1}|\n",
            "|MIA|{LGA -> 1}|\n",
            "|SEA|{LGA -> 2}|\n",
            "|ATL|{LGA -> 1}|\n",
            "|BOS|{LGA -> 1}|\n",
            "|EWR|{LGA -> 2}|\n",
            "+---+----------+\n",
            "\n"
          ]
        }
      ]
    },
    {
      "cell_type": "code",
      "source": [],
      "metadata": {
        "id": "JfRd_5I53AUb"
      },
      "execution_count": null,
      "outputs": []
    }
  ]
}